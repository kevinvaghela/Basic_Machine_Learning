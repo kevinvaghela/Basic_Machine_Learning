{
 "cells": [
  {
   "cell_type": "code",
   "execution_count": 1,
   "metadata": {},
   "outputs": [],
   "source": [
    "import numpy as np\n",
    "import tensorflow as tf\n",
    "\n",
    "import tensorflow_datasets as tfds"
   ]
  },
  {
   "cell_type": "code",
   "execution_count": 2,
   "metadata": {},
   "outputs": [],
   "source": [
    "mnist_dataset, mnist_info = tfds.load(name='mnist', with_info=True, as_supervised=True)"
   ]
  },
  {
   "cell_type": "code",
   "execution_count": 3,
   "metadata": {},
   "outputs": [],
   "source": [
    "mnist_dataset, mnist_info = tfds.load(name='mnist', with_info=True, as_supervised=True)\n",
    "\n",
    "mnist_train, mnist_test = mnist_dataset['train'], mnist_dataset['test']\n",
    "\n",
    "num_validation_samples = 0.1 * mnist_info.splits['train'].num_examples\n",
    "num_validation_samples = tf.cast(num_validation_samples, tf.int64)\n",
    "\n",
    "num_test_samples = mnist_info.splits['test'].num_examples\n",
    "num_test_samples = tf.cast(num_test_samples, tf.int64)\n",
    "\n",
    "\n",
    "def scale(image, label):\n",
    "    image = tf.cast(image, tf.float32)\n",
    "    image /= 255.\n",
    "    return image, label\n",
    "\n",
    "scaled_train_and_validation_data = mnist_train.map(scale)\n",
    "\n",
    "test_data = mnist_test.map(scale)\n",
    "\n",
    "\n",
    "BUFFER_SIZE = 10000\n",
    "\n",
    "shuffled_train_and_validation_data = scaled_train_and_validation_data.shuffle(BUFFER_SIZE)\n",
    "\n",
    "validation_data = shuffled_train_and_validation_data.take(num_validation_samples)\n",
    "train_data = shuffled_train_and_validation_data.skip(num_validation_samples)\n",
    "\n",
    "\n",
    "BATCH_SIZE = 100\n",
    "\n",
    "train_data = train_data.batch(BATCH_SIZE)\n",
    "validation_data = validation_data.batch(num_validation_samples)\n",
    "test_data = test_data.batch(num_test_samples)\n",
    "\n",
    "validation_inputs, validation_targets = next(iter(validation_data))"
   ]
  },
  {
   "cell_type": "markdown",
   "metadata": {},
   "source": [
    "# Model"
   ]
  },
  {
   "cell_type": "markdown",
   "metadata": {},
   "source": [
    "# Outline the model"
   ]
  },
  {
   "cell_type": "code",
   "execution_count": 4,
   "metadata": {},
   "outputs": [],
   "source": [
    "input_size = 784\n",
    "output_size = 10\n",
    "hidden_layer_size = 400\n",
    "\n",
    "model = tf.keras.Sequential([\n",
    "                            tf.keras.layers.Flatten(input_shape=(28,28,1)),\n",
    "                            tf.keras.layers.Dense(hidden_layer_size, activation='relu'),\n",
    "                            tf.keras.layers.Dense(hidden_layer_size, activation='relu'),\n",
    "                            tf.keras.layers.Dense(output_size, activation='softmax')   \n",
    "                            ])"
   ]
  },
  {
   "cell_type": "markdown",
   "metadata": {},
   "source": [
    "# choose the optimizer and the loss function"
   ]
  },
  {
   "cell_type": "code",
   "execution_count": 5,
   "metadata": {},
   "outputs": [],
   "source": [
    "model.compile(optimizer='adam', loss='sparse_categorical_crossentropy', metrics=['accuracy'])"
   ]
  },
  {
   "cell_type": "markdown",
   "metadata": {},
   "source": [
    "# Training"
   ]
  },
  {
   "cell_type": "code",
   "execution_count": 6,
   "metadata": {},
   "outputs": [
    {
     "name": "stdout",
     "output_type": "stream",
     "text": [
      "Epoch 1/20\n",
      "540/540 - 18s - loss: 0.2305 - accuracy: 0.9315 - val_loss: 0.1172 - val_accuracy: 0.9625\n",
      "Epoch 2/20\n",
      "540/540 - 7s - loss: 0.0853 - accuracy: 0.9739 - val_loss: 0.0711 - val_accuracy: 0.9785\n",
      "Epoch 3/20\n",
      "540/540 - 7s - loss: 0.0563 - accuracy: 0.9825 - val_loss: 0.0650 - val_accuracy: 0.9810\n",
      "Epoch 4/20\n",
      "540/540 - 7s - loss: 0.0394 - accuracy: 0.9870 - val_loss: 0.0408 - val_accuracy: 0.9860\n",
      "Epoch 5/20\n",
      "540/540 - 7s - loss: 0.0318 - accuracy: 0.9898 - val_loss: 0.0379 - val_accuracy: 0.9873\n",
      "Epoch 6/20\n",
      "540/540 - 8s - loss: 0.0251 - accuracy: 0.9920 - val_loss: 0.0267 - val_accuracy: 0.9920\n",
      "Epoch 7/20\n",
      "540/540 - 7s - loss: 0.0219 - accuracy: 0.9928 - val_loss: 0.0303 - val_accuracy: 0.9907\n",
      "Epoch 8/20\n",
      "540/540 - 7s - loss: 0.0197 - accuracy: 0.9935 - val_loss: 0.0302 - val_accuracy: 0.9917\n",
      "Epoch 9/20\n",
      "540/540 - 7s - loss: 0.0176 - accuracy: 0.9941 - val_loss: 0.0165 - val_accuracy: 0.9948\n",
      "Epoch 10/20\n",
      "540/540 - 7s - loss: 0.0166 - accuracy: 0.9944 - val_loss: 0.0203 - val_accuracy: 0.9935\n",
      "Epoch 11/20\n",
      "540/540 - 7s - loss: 0.0119 - accuracy: 0.9964 - val_loss: 0.0195 - val_accuracy: 0.9937\n",
      "Epoch 12/20\n",
      "540/540 - 7s - loss: 0.0148 - accuracy: 0.9947 - val_loss: 0.0125 - val_accuracy: 0.9965\n",
      "Epoch 13/20\n",
      "540/540 - 7s - loss: 0.0106 - accuracy: 0.9964 - val_loss: 0.0108 - val_accuracy: 0.9965\n",
      "Epoch 14/20\n",
      "540/540 - 7s - loss: 0.0101 - accuracy: 0.9968 - val_loss: 0.0128 - val_accuracy: 0.9962\n",
      "Epoch 15/20\n",
      "540/540 - 7s - loss: 0.0115 - accuracy: 0.9964 - val_loss: 0.0162 - val_accuracy: 0.9952\n",
      "Epoch 16/20\n",
      "540/540 - 7s - loss: 0.0108 - accuracy: 0.9965 - val_loss: 0.0106 - val_accuracy: 0.9972\n",
      "Epoch 17/20\n",
      "540/540 - 7s - loss: 0.0093 - accuracy: 0.9970 - val_loss: 0.0129 - val_accuracy: 0.9957\n",
      "Epoch 18/20\n",
      "540/540 - 7s - loss: 0.0093 - accuracy: 0.9968 - val_loss: 0.0103 - val_accuracy: 0.9970\n",
      "Epoch 19/20\n",
      "540/540 - 7s - loss: 0.0092 - accuracy: 0.9972 - val_loss: 0.0069 - val_accuracy: 0.9983\n",
      "Epoch 20/20\n",
      "540/540 - 7s - loss: 0.0081 - accuracy: 0.9978 - val_loss: 0.0074 - val_accuracy: 0.9980\n"
     ]
    },
    {
     "data": {
      "text/plain": [
       "<tensorflow.python.keras.callbacks.History at 0x20f966a58c8>"
      ]
     },
     "execution_count": 6,
     "metadata": {},
     "output_type": "execute_result"
    }
   ],
   "source": [
    "NUM_EPOCHS = 20\n",
    "\n",
    "model.fit(train_data, epochs = NUM_EPOCHS, validation_data=(validation_inputs, validation_targets), validation_steps=10, verbose=2)"
   ]
  },
  {
   "cell_type": "markdown",
   "metadata": {},
   "source": [
    "# Test the model"
   ]
  },
  {
   "cell_type": "code",
   "execution_count": 8,
   "metadata": {},
   "outputs": [
    {
     "name": "stdout",
     "output_type": "stream",
     "text": [
      "      1/Unknown - 3s 3s/step - loss: 0.1015 - accuracy: 0.9799"
     ]
    }
   ],
   "source": [
    "test_loss, test_accuracy = model.evaluate(test_data)"
   ]
  },
  {
   "cell_type": "code",
   "execution_count": 9,
   "metadata": {},
   "outputs": [
    {
     "name": "stdout",
     "output_type": "stream",
     "text": [
      "Test loss: 0.10. Test accuracy: 97.99%\n"
     ]
    }
   ],
   "source": [
    "print('Test loss: {0:.2f}. Test accuracy: {1:.2f}%'.format(test_loss, test_accuracy*100.))"
   ]
  }
 ],
 "metadata": {
  "kernelspec": {
   "display_name": "Python 3",
   "language": "python",
   "name": "python3"
  },
  "language_info": {
   "codemirror_mode": {
    "name": "ipython",
    "version": 3
   },
   "file_extension": ".py",
   "mimetype": "text/x-python",
   "name": "python",
   "nbconvert_exporter": "python",
   "pygments_lexer": "ipython3",
   "version": "3.7.6"
  }
 },
 "nbformat": 4,
 "nbformat_minor": 4
}
