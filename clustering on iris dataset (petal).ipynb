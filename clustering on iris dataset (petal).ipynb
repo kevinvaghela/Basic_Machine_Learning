{
 "cells": [
  {
   "cell_type": "code",
   "execution_count": 1,
   "metadata": {},
   "outputs": [],
   "source": [
    "import numpy as np\n",
    "import pandas as pd\n",
    "import matplotlib.pyplot as plt\n",
    "import seaborn as sns\n",
    "sns.set()\n",
    "from sklearn.cluster import KMeans"
   ]
  },
  {
   "cell_type": "code",
   "execution_count": 2,
   "metadata": {},
   "outputs": [
    {
     "data": {
      "text/html": [
       "<div>\n",
       "<style scoped>\n",
       "    .dataframe tbody tr th:only-of-type {\n",
       "        vertical-align: middle;\n",
       "    }\n",
       "\n",
       "    .dataframe tbody tr th {\n",
       "        vertical-align: top;\n",
       "    }\n",
       "\n",
       "    .dataframe thead th {\n",
       "        text-align: right;\n",
       "    }\n",
       "</style>\n",
       "<table border=\"1\" class=\"dataframe\">\n",
       "  <thead>\n",
       "    <tr style=\"text-align: right;\">\n",
       "      <th></th>\n",
       "      <th>sepal_length</th>\n",
       "      <th>sepal_width</th>\n",
       "      <th>petal_length</th>\n",
       "      <th>petal_width</th>\n",
       "    </tr>\n",
       "  </thead>\n",
       "  <tbody>\n",
       "    <tr>\n",
       "      <th>0</th>\n",
       "      <td>5.1</td>\n",
       "      <td>3.5</td>\n",
       "      <td>1.4</td>\n",
       "      <td>0.2</td>\n",
       "    </tr>\n",
       "    <tr>\n",
       "      <th>1</th>\n",
       "      <td>4.9</td>\n",
       "      <td>3.0</td>\n",
       "      <td>1.4</td>\n",
       "      <td>0.2</td>\n",
       "    </tr>\n",
       "    <tr>\n",
       "      <th>2</th>\n",
       "      <td>4.7</td>\n",
       "      <td>3.2</td>\n",
       "      <td>1.3</td>\n",
       "      <td>0.2</td>\n",
       "    </tr>\n",
       "    <tr>\n",
       "      <th>3</th>\n",
       "      <td>4.6</td>\n",
       "      <td>3.1</td>\n",
       "      <td>1.5</td>\n",
       "      <td>0.2</td>\n",
       "    </tr>\n",
       "    <tr>\n",
       "      <th>4</th>\n",
       "      <td>5.0</td>\n",
       "      <td>3.6</td>\n",
       "      <td>1.4</td>\n",
       "      <td>0.2</td>\n",
       "    </tr>\n",
       "    <tr>\n",
       "      <th>...</th>\n",
       "      <td>...</td>\n",
       "      <td>...</td>\n",
       "      <td>...</td>\n",
       "      <td>...</td>\n",
       "    </tr>\n",
       "    <tr>\n",
       "      <th>145</th>\n",
       "      <td>6.7</td>\n",
       "      <td>3.0</td>\n",
       "      <td>5.2</td>\n",
       "      <td>2.3</td>\n",
       "    </tr>\n",
       "    <tr>\n",
       "      <th>146</th>\n",
       "      <td>6.3</td>\n",
       "      <td>2.5</td>\n",
       "      <td>5.0</td>\n",
       "      <td>1.9</td>\n",
       "    </tr>\n",
       "    <tr>\n",
       "      <th>147</th>\n",
       "      <td>6.5</td>\n",
       "      <td>3.0</td>\n",
       "      <td>5.2</td>\n",
       "      <td>2.0</td>\n",
       "    </tr>\n",
       "    <tr>\n",
       "      <th>148</th>\n",
       "      <td>6.2</td>\n",
       "      <td>3.4</td>\n",
       "      <td>5.4</td>\n",
       "      <td>2.3</td>\n",
       "    </tr>\n",
       "    <tr>\n",
       "      <th>149</th>\n",
       "      <td>5.9</td>\n",
       "      <td>3.0</td>\n",
       "      <td>5.1</td>\n",
       "      <td>1.8</td>\n",
       "    </tr>\n",
       "  </tbody>\n",
       "</table>\n",
       "<p>150 rows × 4 columns</p>\n",
       "</div>"
      ],
      "text/plain": [
       "     sepal_length  sepal_width  petal_length  petal_width\n",
       "0             5.1          3.5           1.4          0.2\n",
       "1             4.9          3.0           1.4          0.2\n",
       "2             4.7          3.2           1.3          0.2\n",
       "3             4.6          3.1           1.5          0.2\n",
       "4             5.0          3.6           1.4          0.2\n",
       "..            ...          ...           ...          ...\n",
       "145           6.7          3.0           5.2          2.3\n",
       "146           6.3          2.5           5.0          1.9\n",
       "147           6.5          3.0           5.2          2.0\n",
       "148           6.2          3.4           5.4          2.3\n",
       "149           5.9          3.0           5.1          1.8\n",
       "\n",
       "[150 rows x 4 columns]"
      ]
     },
     "execution_count": 2,
     "metadata": {},
     "output_type": "execute_result"
    }
   ],
   "source": [
    "row_data = pd.read_csv(r\"C:\\Users\\Kevin's PC\\Desktop\\The Data Science Course 2020 - All Resources\\Part_5_Advanced_Statistical_Methods_(Machine_Learning)\\S38_L268\\iris-dataset.csv\")\n",
    "row_data"
   ]
  },
  {
   "cell_type": "code",
   "execution_count": 3,
   "metadata": {},
   "outputs": [
    {
     "data": {
      "text/html": [
       "<div>\n",
       "<style scoped>\n",
       "    .dataframe tbody tr th:only-of-type {\n",
       "        vertical-align: middle;\n",
       "    }\n",
       "\n",
       "    .dataframe tbody tr th {\n",
       "        vertical-align: top;\n",
       "    }\n",
       "\n",
       "    .dataframe thead th {\n",
       "        text-align: right;\n",
       "    }\n",
       "</style>\n",
       "<table border=\"1\" class=\"dataframe\">\n",
       "  <thead>\n",
       "    <tr style=\"text-align: right;\">\n",
       "      <th></th>\n",
       "      <th>petal_length</th>\n",
       "      <th>petal_width</th>\n",
       "    </tr>\n",
       "  </thead>\n",
       "  <tbody>\n",
       "    <tr>\n",
       "      <th>0</th>\n",
       "      <td>1.4</td>\n",
       "      <td>0.2</td>\n",
       "    </tr>\n",
       "    <tr>\n",
       "      <th>1</th>\n",
       "      <td>1.4</td>\n",
       "      <td>0.2</td>\n",
       "    </tr>\n",
       "    <tr>\n",
       "      <th>2</th>\n",
       "      <td>1.3</td>\n",
       "      <td>0.2</td>\n",
       "    </tr>\n",
       "    <tr>\n",
       "      <th>3</th>\n",
       "      <td>1.5</td>\n",
       "      <td>0.2</td>\n",
       "    </tr>\n",
       "    <tr>\n",
       "      <th>4</th>\n",
       "      <td>1.4</td>\n",
       "      <td>0.2</td>\n",
       "    </tr>\n",
       "    <tr>\n",
       "      <th>...</th>\n",
       "      <td>...</td>\n",
       "      <td>...</td>\n",
       "    </tr>\n",
       "    <tr>\n",
       "      <th>145</th>\n",
       "      <td>5.2</td>\n",
       "      <td>2.3</td>\n",
       "    </tr>\n",
       "    <tr>\n",
       "      <th>146</th>\n",
       "      <td>5.0</td>\n",
       "      <td>1.9</td>\n",
       "    </tr>\n",
       "    <tr>\n",
       "      <th>147</th>\n",
       "      <td>5.2</td>\n",
       "      <td>2.0</td>\n",
       "    </tr>\n",
       "    <tr>\n",
       "      <th>148</th>\n",
       "      <td>5.4</td>\n",
       "      <td>2.3</td>\n",
       "    </tr>\n",
       "    <tr>\n",
       "      <th>149</th>\n",
       "      <td>5.1</td>\n",
       "      <td>1.8</td>\n",
       "    </tr>\n",
       "  </tbody>\n",
       "</table>\n",
       "<p>150 rows × 2 columns</p>\n",
       "</div>"
      ],
      "text/plain": [
       "     petal_length  petal_width\n",
       "0             1.4          0.2\n",
       "1             1.4          0.2\n",
       "2             1.3          0.2\n",
       "3             1.5          0.2\n",
       "4             1.4          0.2\n",
       "..            ...          ...\n",
       "145           5.2          2.3\n",
       "146           5.0          1.9\n",
       "147           5.2          2.0\n",
       "148           5.4          2.3\n",
       "149           5.1          1.8\n",
       "\n",
       "[150 rows x 2 columns]"
      ]
     },
     "execution_count": 3,
     "metadata": {},
     "output_type": "execute_result"
    }
   ],
   "source": [
    "data = row_data[['petal_length','petal_width']]\n",
    "data"
   ]
  },
  {
   "cell_type": "code",
   "execution_count": 4,
   "metadata": {},
   "outputs": [
    {
     "data": {
      "text/plain": [
       "Text(0, 0.5, 'width')"
      ]
     },
     "execution_count": 4,
     "metadata": {},
     "output_type": "execute_result"
    },
    {
     "data": {
      "image/png": "[encoded data removed]",
      "text/plain": [
       "<Figure size 432x288 with 1 Axes>"
      ]
     },
     "metadata": {},
     "output_type": "display_data"
    }
   ],
   "source": [
    "plt.scatter(data['petal_length'],data['petal_width'])\n",
    "plt.xlabel('lenght')\n",
    "plt.ylabel('width')"
   ]
  },
  {
   "cell_type": "code",
   "execution_count": 5,
   "metadata": {},
   "outputs": [],
   "source": [
    "x = data.copy()"
   ]
  },
  {
   "cell_type": "code",
   "execution_count": 12,
   "metadata": {},
   "outputs": [
    {
     "data": {
      "text/plain": [
       "KMeans(algorithm='auto', copy_x=True, init='k-means++', max_iter=300,\n",
       "       n_clusters=3, n_init=10, n_jobs=None, precompute_distances='auto',\n",
       "       random_state=None, tol=0.0001, verbose=0)"
      ]
     },
     "execution_count": 12,
     "metadata": {},
     "output_type": "execute_result"
    }
   ],
   "source": [
    "kmeans = KMeans(3)\n",
    "kmeans.fit(x)"
   ]
  },
  {
   "cell_type": "code",
   "execution_count": 13,
   "metadata": {},
   "outputs": [],
   "source": [
    "clusters = x.copy()\n",
    "clusters['cluster_pred'] = kmeans.fit_predict(x)"
   ]
  },
  {
   "cell_type": "code",
   "execution_count": 14,
   "metadata": {},
   "outputs": [
    {
     "data": {
      "text/html": [
       "<div>\n",
       "<style scoped>\n",
       "    .dataframe tbody tr th:only-of-type {\n",
       "        vertical-align: middle;\n",
       "    }\n",
       "\n",
       "    .dataframe tbody tr th {\n",
       "        vertical-align: top;\n",
       "    }\n",
       "\n",
       "    .dataframe thead th {\n",
       "        text-align: right;\n",
       "    }\n",
       "</style>\n",
       "<table border=\"1\" class=\"dataframe\">\n",
       "  <thead>\n",
       "    <tr style=\"text-align: right;\">\n",
       "      <th></th>\n",
       "      <th>petal_length</th>\n",
       "      <th>petal_width</th>\n",
       "      <th>cluster_pred</th>\n",
       "    </tr>\n",
       "  </thead>\n",
       "  <tbody>\n",
       "    <tr>\n",
       "      <th>0</th>\n",
       "      <td>1.4</td>\n",
       "      <td>0.2</td>\n",
       "      <td>0</td>\n",
       "    </tr>\n",
       "    <tr>\n",
       "      <th>1</th>\n",
       "      <td>1.4</td>\n",
       "      <td>0.2</td>\n",
       "      <td>0</td>\n",
       "    </tr>\n",
       "    <tr>\n",
       "      <th>2</th>\n",
       "      <td>1.3</td>\n",
       "      <td>0.2</td>\n",
       "      <td>0</td>\n",
       "    </tr>\n",
       "    <tr>\n",
       "      <th>3</th>\n",
       "      <td>1.5</td>\n",
       "      <td>0.2</td>\n",
       "      <td>0</td>\n",
       "    </tr>\n",
       "    <tr>\n",
       "      <th>4</th>\n",
       "      <td>1.4</td>\n",
       "      <td>0.2</td>\n",
       "      <td>0</td>\n",
       "    </tr>\n",
       "    <tr>\n",
       "      <th>...</th>\n",
       "      <td>...</td>\n",
       "      <td>...</td>\n",
       "      <td>...</td>\n",
       "    </tr>\n",
       "    <tr>\n",
       "      <th>145</th>\n",
       "      <td>5.2</td>\n",
       "      <td>2.3</td>\n",
       "      <td>1</td>\n",
       "    </tr>\n",
       "    <tr>\n",
       "      <th>146</th>\n",
       "      <td>5.0</td>\n",
       "      <td>1.9</td>\n",
       "      <td>1</td>\n",
       "    </tr>\n",
       "    <tr>\n",
       "      <th>147</th>\n",
       "      <td>5.2</td>\n",
       "      <td>2.0</td>\n",
       "      <td>1</td>\n",
       "    </tr>\n",
       "    <tr>\n",
       "      <th>148</th>\n",
       "      <td>5.4</td>\n",
       "      <td>2.3</td>\n",
       "      <td>1</td>\n",
       "    </tr>\n",
       "    <tr>\n",
       "      <th>149</th>\n",
       "      <td>5.1</td>\n",
       "      <td>1.8</td>\n",
       "      <td>1</td>\n",
       "    </tr>\n",
       "  </tbody>\n",
       "</table>\n",
       "<p>150 rows × 3 columns</p>\n",
       "</div>"
      ],
      "text/plain": [
       "     petal_length  petal_width  cluster_pred\n",
       "0             1.4          0.2             0\n",
       "1             1.4          0.2             0\n",
       "2             1.3          0.2             0\n",
       "3             1.5          0.2             0\n",
       "4             1.4          0.2             0\n",
       "..            ...          ...           ...\n",
       "145           5.2          2.3             1\n",
       "146           5.0          1.9             1\n",
       "147           5.2          2.0             1\n",
       "148           5.4          2.3             1\n",
       "149           5.1          1.8             1\n",
       "\n",
       "[150 rows x 3 columns]"
      ]
     },
     "execution_count": 14,
     "metadata": {},
     "output_type": "execute_result"
    }
   ],
   "source": [
    "clusters"
   ]
  },
  {
   "cell_type": "code",
   "execution_count": 15,
   "metadata": {},
   "outputs": [
    {
     "data": {
      "text/plain": [
       "Text(0, 0.5, 'width')"
      ]
     },
     "execution_count": 15,
     "metadata": {},
     "output_type": "execute_result"
    },
    {
     "data": {
      "image/png": "[encoded data removed]",
      "text/plain": [
       "<Figure size 432x288 with 1 Axes>"
      ]
     },
     "metadata": {},
     "output_type": "display_data"
    }
   ],
   "source": [
    "plt.scatter(clusters['petal_length'],clusters['petal_width'],c=clusters['cluster_pred'],cmap='rainbow')\n",
    "plt.xlabel('length')\n",
    "plt.ylabel('width')"
   ]
  },
  {
   "cell_type": "code",
   "execution_count": 11,
   "metadata": {},
   "outputs": [
    {
     "data": {
      "text/plain": [
       "array([[-1.34127240e+00, -1.31297673e+00],\n",
       "       [-1.34127240e+00, -1.31297673e+00],\n",
       "       [-1.39813811e+00, -1.31297673e+00],\n",
       "       [-1.28440670e+00, -1.31297673e+00],\n",
       "       [-1.34127240e+00, -1.31297673e+00],\n",
       "       [-1.17067529e+00, -1.05003079e+00],\n",
       "       [-1.34127240e+00, -1.18150376e+00],\n",
       "       [-1.28440670e+00, -1.31297673e+00],\n",
       "       [-1.34127240e+00, -1.31297673e+00],\n",
       "       [-1.28440670e+00, -1.44444970e+00],\n",
       "       [-1.28440670e+00, -1.31297673e+00],\n",
       "       [-1.22754100e+00, -1.31297673e+00],\n",
       "       [-1.34127240e+00, -1.44444970e+00],\n",
       "       [-1.51186952e+00, -1.44444970e+00],\n",
       "       [-1.45500381e+00, -1.31297673e+00],\n",
       "       [-1.28440670e+00, -1.05003079e+00],\n",
       "       [-1.39813811e+00, -1.05003079e+00],\n",
       "       [-1.34127240e+00, -1.18150376e+00],\n",
       "       [-1.17067529e+00, -1.18150376e+00],\n",
       "       [-1.28440670e+00, -1.18150376e+00],\n",
       "       [-1.17067529e+00, -1.31297673e+00],\n",
       "       [-1.28440670e+00, -1.05003079e+00],\n",
       "       [-1.56873522e+00, -1.31297673e+00],\n",
       "       [-1.17067529e+00, -9.18557817e-01],\n",
       "       [-1.05694388e+00, -1.31297673e+00],\n",
       "       [-1.22754100e+00, -1.31297673e+00],\n",
       "       [-1.22754100e+00, -1.05003079e+00],\n",
       "       [-1.28440670e+00, -1.31297673e+00],\n",
       "       [-1.34127240e+00, -1.31297673e+00],\n",
       "       [-1.22754100e+00, -1.31297673e+00],\n",
       "       [-1.22754100e+00, -1.31297673e+00],\n",
       "       [-1.28440670e+00, -1.05003079e+00],\n",
       "       [-1.28440670e+00, -1.44444970e+00],\n",
       "       [-1.34127240e+00, -1.31297673e+00],\n",
       "       [-1.28440670e+00, -1.44444970e+00],\n",
       "       [-1.45500381e+00, -1.31297673e+00],\n",
       "       [-1.39813811e+00, -1.31297673e+00],\n",
       "       [-1.28440670e+00, -1.44444970e+00],\n",
       "       [-1.39813811e+00, -1.31297673e+00],\n",
       "       [-1.28440670e+00, -1.31297673e+00],\n",
       "       [-1.39813811e+00, -1.18150376e+00],\n",
       "       [-1.39813811e+00, -1.18150376e+00],\n",
       "       [-1.39813811e+00, -1.31297673e+00],\n",
       "       [-1.22754100e+00, -7.87084847e-01],\n",
       "       [-1.05694388e+00, -1.05003079e+00],\n",
       "       [-1.34127240e+00, -1.18150376e+00],\n",
       "       [-1.22754100e+00, -1.31297673e+00],\n",
       "       [-1.34127240e+00, -1.31297673e+00],\n",
       "       [-1.28440670e+00, -1.31297673e+00],\n",
       "       [-1.34127240e+00, -1.31297673e+00],\n",
       "       [ 5.35295827e-01,  2.64698913e-01],\n",
       "       [ 4.21564419e-01,  3.96171883e-01],\n",
       "       [ 6.49027235e-01,  3.96171883e-01],\n",
       "       [ 1.37235899e-01,  1.33225943e-01],\n",
       "       [ 4.78430123e-01,  3.96171883e-01],\n",
       "       [ 4.21564419e-01,  1.33225943e-01],\n",
       "       [ 5.35295827e-01,  5.27644853e-01],\n",
       "       [-2.60824029e-01, -2.61192967e-01],\n",
       "       [ 4.78430123e-01,  1.33225943e-01],\n",
       "       [ 8.03701950e-02,  2.64698913e-01],\n",
       "       [-1.47092621e-01, -2.61192967e-01],\n",
       "       [ 2.50967307e-01,  3.96171883e-01],\n",
       "       [ 1.37235899e-01, -2.61192967e-01],\n",
       "       [ 5.35295827e-01,  2.64698913e-01],\n",
       "       [-9.02269170e-02,  1.33225943e-01],\n",
       "       [ 3.64698715e-01,  2.64698913e-01],\n",
       "       [ 4.21564419e-01,  3.96171883e-01],\n",
       "       [ 1.94101603e-01, -2.61192967e-01],\n",
       "       [ 4.21564419e-01,  3.96171883e-01],\n",
       "       [ 8.03701950e-02, -1.29719997e-01],\n",
       "       [ 5.92161531e-01,  7.90590793e-01],\n",
       "       [ 1.37235899e-01,  1.33225943e-01],\n",
       "       [ 6.49027235e-01,  3.96171883e-01],\n",
       "       [ 5.35295827e-01,  1.75297293e-03],\n",
       "       [ 3.07833011e-01,  1.33225943e-01],\n",
       "       [ 3.64698715e-01,  2.64698913e-01],\n",
       "       [ 5.92161531e-01,  2.64698913e-01],\n",
       "       [ 7.05892939e-01,  6.59117823e-01],\n",
       "       [ 4.21564419e-01,  3.96171883e-01],\n",
       "       [-1.47092621e-01, -2.61192967e-01],\n",
       "       [ 2.35044910e-02, -1.29719997e-01],\n",
       "       [-3.33612130e-02, -2.61192967e-01],\n",
       "       [ 8.03701950e-02,  1.75297293e-03],\n",
       "       [ 7.62758643e-01,  5.27644853e-01],\n",
       "       [ 4.21564419e-01,  3.96171883e-01],\n",
       "       [ 4.21564419e-01,  5.27644853e-01],\n",
       "       [ 5.35295827e-01,  3.96171883e-01],\n",
       "       [ 3.64698715e-01,  1.33225943e-01],\n",
       "       [ 1.94101603e-01,  1.33225943e-01],\n",
       "       [ 1.37235899e-01,  1.33225943e-01],\n",
       "       [ 3.64698715e-01,  1.75297293e-03],\n",
       "       [ 4.78430123e-01,  2.64698913e-01],\n",
       "       [ 1.37235899e-01,  1.75297293e-03],\n",
       "       [-2.60824029e-01, -2.61192967e-01],\n",
       "       [ 2.50967307e-01,  1.33225943e-01],\n",
       "       [ 2.50967307e-01,  1.75297293e-03],\n",
       "       [ 2.50967307e-01,  1.33225943e-01],\n",
       "       [ 3.07833011e-01,  1.33225943e-01],\n",
       "       [-4.31421141e-01, -1.29719997e-01],\n",
       "       [ 1.94101603e-01,  1.33225943e-01],\n",
       "       [ 1.27454998e+00,  1.71090158e+00],\n",
       "       [ 7.62758643e-01,  9.22063763e-01],\n",
       "       [ 1.21768427e+00,  1.18500970e+00],\n",
       "       [ 1.04708716e+00,  7.90590793e-01],\n",
       "       [ 1.16081857e+00,  1.31648267e+00],\n",
       "       [ 1.61574420e+00,  1.18500970e+00],\n",
       "       [ 4.21564419e-01,  6.59117823e-01],\n",
       "       [ 1.44514709e+00,  7.90590793e-01],\n",
       "       [ 1.16081857e+00,  7.90590793e-01],\n",
       "       [ 1.33141568e+00,  1.71090158e+00],\n",
       "       [ 7.62758643e-01,  1.05353673e+00],\n",
       "       [ 8.76490051e-01,  9.22063763e-01],\n",
       "       [ 9.90221459e-01,  1.18500970e+00],\n",
       "       [ 7.05892939e-01,  1.05353673e+00],\n",
       "       [ 7.62758643e-01,  1.57942861e+00],\n",
       "       [ 8.76490051e-01,  1.44795564e+00],\n",
       "       [ 9.90221459e-01,  7.90590793e-01],\n",
       "       [ 1.67260991e+00,  1.31648267e+00],\n",
       "       [ 1.78634131e+00,  1.44795564e+00],\n",
       "       [ 7.05892939e-01,  3.96171883e-01],\n",
       "       [ 1.10395287e+00,  1.44795564e+00],\n",
       "       [ 6.49027235e-01,  1.05353673e+00],\n",
       "       [ 1.67260991e+00,  1.05353673e+00],\n",
       "       [ 6.49027235e-01,  7.90590793e-01],\n",
       "       [ 1.10395287e+00,  1.18500970e+00],\n",
       "       [ 1.27454998e+00,  7.90590793e-01],\n",
       "       [ 5.92161531e-01,  7.90590793e-01],\n",
       "       [ 6.49027235e-01,  7.90590793e-01],\n",
       "       [ 1.04708716e+00,  1.18500970e+00],\n",
       "       [ 1.16081857e+00,  5.27644853e-01],\n",
       "       [ 1.33141568e+00,  9.22063763e-01],\n",
       "       [ 1.50201279e+00,  1.05353673e+00],\n",
       "       [ 1.04708716e+00,  1.31648267e+00],\n",
       "       [ 7.62758643e-01,  3.96171883e-01],\n",
       "       [ 1.04708716e+00,  2.64698913e-01],\n",
       "       [ 1.33141568e+00,  1.44795564e+00],\n",
       "       [ 1.04708716e+00,  1.57942861e+00],\n",
       "       [ 9.90221459e-01,  7.90590793e-01],\n",
       "       [ 5.92161531e-01,  7.90590793e-01],\n",
       "       [ 9.33355755e-01,  1.18500970e+00],\n",
       "       [ 1.04708716e+00,  1.57942861e+00],\n",
       "       [ 7.62758643e-01,  1.44795564e+00],\n",
       "       [ 7.62758643e-01,  9.22063763e-01],\n",
       "       [ 1.21768427e+00,  1.44795564e+00],\n",
       "       [ 1.10395287e+00,  1.71090158e+00],\n",
       "       [ 8.19624347e-01,  1.44795564e+00],\n",
       "       [ 7.05892939e-01,  9.22063763e-01],\n",
       "       [ 8.19624347e-01,  1.05353673e+00],\n",
       "       [ 9.33355755e-01,  1.44795564e+00],\n",
       "       [ 7.62758643e-01,  7.90590793e-01]])"
      ]
     },
     "execution_count": 11,
     "metadata": {},
     "output_type": "execute_result"
    }
   ],
   "source": [
    "from sklearn import preprocessing\n",
    "\n",
    "x_scaled = preprocessing.scale(x)\n",
    "x_scaled"
   ]
  },
  {
   "cell_type": "code",
   "execution_count": 16,
   "metadata": {},
   "outputs": [
    {
     "data": {
      "text/plain": [
       "[300.0,\n",
       " 54.145847013449895,\n",
       " 18.046983891906272,\n",
       " 12.307440251261845,\n",
       " 9.181131495513899,\n",
       " 7.210310805349153,\n",
       " 6.0265931559514465,\n",
       " 5.151546796494884,\n",
       " 4.426589153575175]"
      ]
     },
     "execution_count": 16,
     "metadata": {},
     "output_type": "execute_result"
    }
   ],
   "source": [
    "wcss = []\n",
    "\n",
    "for i in range(1,10):\n",
    "    kmeans = KMeans(i)\n",
    "    kmeans.fit(x_scaled)\n",
    "    wcss.append(kmeans.inertia_)\n",
    "    \n",
    "wcss"
   ]
  },
  {
   "cell_type": "code",
   "execution_count": 17,
   "metadata": {},
   "outputs": [
    {
     "data": {
      "text/plain": [
       "Text(0, 0.5, 'wcss')"
      ]
     },
     "execution_count": 17,
     "metadata": {},
     "output_type": "execute_result"
    },
    {
     "data": {
      "image/png": "[encoded data removed]",
      "text/plain": [
       "<Figure size 432x288 with 1 Axes>"
      ]
     },
     "metadata": {},
     "output_type": "display_data"
    }
   ],
   "source": [
    "plt.plot(range(1,10),wcss)\n",
    "plt.xlabel('numbers of clusters')\n",
    "plt.ylabel('wcss')"
   ]
  },
  {
   "cell_type": "code",
   "execution_count": 18,
   "metadata": {},
   "outputs": [],
   "source": [
    "kmeans_new =KMeans(3)\n",
    "kmeans_new.fit(x_scaled)\n",
    "clusters_new = x.copy()\n",
    "clusters_new['cluster_pred'] = kmeans_new.fit_predict(x_scaled)"
   ]
  },
  {
   "cell_type": "code",
   "execution_count": 19,
   "metadata": {},
   "outputs": [
    {
     "data": {
      "text/html": [
       "<div>\n",
       "<style scoped>\n",
       "    .dataframe tbody tr th:only-of-type {\n",
       "        vertical-align: middle;\n",
       "    }\n",
       "\n",
       "    .dataframe tbody tr th {\n",
       "        vertical-align: top;\n",
       "    }\n",
       "\n",
       "    .dataframe thead th {\n",
       "        text-align: right;\n",
       "    }\n",
       "</style>\n",
       "<table border=\"1\" class=\"dataframe\">\n",
       "  <thead>\n",
       "    <tr style=\"text-align: right;\">\n",
       "      <th></th>\n",
       "      <th>petal_length</th>\n",
       "      <th>petal_width</th>\n",
       "      <th>cluster_pred</th>\n",
       "    </tr>\n",
       "  </thead>\n",
       "  <tbody>\n",
       "    <tr>\n",
       "      <th>0</th>\n",
       "      <td>1.4</td>\n",
       "      <td>0.2</td>\n",
       "      <td>1</td>\n",
       "    </tr>\n",
       "    <tr>\n",
       "      <th>1</th>\n",
       "      <td>1.4</td>\n",
       "      <td>0.2</td>\n",
       "      <td>1</td>\n",
       "    </tr>\n",
       "    <tr>\n",
       "      <th>2</th>\n",
       "      <td>1.3</td>\n",
       "      <td>0.2</td>\n",
       "      <td>1</td>\n",
       "    </tr>\n",
       "    <tr>\n",
       "      <th>3</th>\n",
       "      <td>1.5</td>\n",
       "      <td>0.2</td>\n",
       "      <td>1</td>\n",
       "    </tr>\n",
       "    <tr>\n",
       "      <th>4</th>\n",
       "      <td>1.4</td>\n",
       "      <td>0.2</td>\n",
       "      <td>1</td>\n",
       "    </tr>\n",
       "    <tr>\n",
       "      <th>...</th>\n",
       "      <td>...</td>\n",
       "      <td>...</td>\n",
       "      <td>...</td>\n",
       "    </tr>\n",
       "    <tr>\n",
       "      <th>145</th>\n",
       "      <td>5.2</td>\n",
       "      <td>2.3</td>\n",
       "      <td>0</td>\n",
       "    </tr>\n",
       "    <tr>\n",
       "      <th>146</th>\n",
       "      <td>5.0</td>\n",
       "      <td>1.9</td>\n",
       "      <td>0</td>\n",
       "    </tr>\n",
       "    <tr>\n",
       "      <th>147</th>\n",
       "      <td>5.2</td>\n",
       "      <td>2.0</td>\n",
       "      <td>0</td>\n",
       "    </tr>\n",
       "    <tr>\n",
       "      <th>148</th>\n",
       "      <td>5.4</td>\n",
       "      <td>2.3</td>\n",
       "      <td>0</td>\n",
       "    </tr>\n",
       "    <tr>\n",
       "      <th>149</th>\n",
       "      <td>5.1</td>\n",
       "      <td>1.8</td>\n",
       "      <td>0</td>\n",
       "    </tr>\n",
       "  </tbody>\n",
       "</table>\n",
       "<p>150 rows × 3 columns</p>\n",
       "</div>"
      ],
      "text/plain": [
       "     petal_length  petal_width  cluster_pred\n",
       "0             1.4          0.2             1\n",
       "1             1.4          0.2             1\n",
       "2             1.3          0.2             1\n",
       "3             1.5          0.2             1\n",
       "4             1.4          0.2             1\n",
       "..            ...          ...           ...\n",
       "145           5.2          2.3             0\n",
       "146           5.0          1.9             0\n",
       "147           5.2          2.0             0\n",
       "148           5.4          2.3             0\n",
       "149           5.1          1.8             0\n",
       "\n",
       "[150 rows x 3 columns]"
      ]
     },
     "execution_count": 19,
     "metadata": {},
     "output_type": "execute_result"
    }
   ],
   "source": [
    "clusters_new"
   ]
  },
  {
   "cell_type": "code",
   "execution_count": 20,
   "metadata": {},
   "outputs": [
    {
     "data": {
      "text/plain": [
       "Text(0, 0.5, 'width')"
      ]
     },
     "execution_count": 20,
     "metadata": {},
     "output_type": "execute_result"
    },
    {
     "data": {
      "image/png": "[encoded data removed]",
      "text/plain": [
       "<Figure size 432x288 with 1 Axes>"
      ]
     },
     "metadata": {},
     "output_type": "display_data"
    }
   ],
   "source": [
    "plt.scatter(clusters_new['petal_length'],clusters_new['petal_width'],c=clusters_new['cluster_pred'],cmap='rainbow')\n",
    "plt.xlabel('length')\n",
    "plt.ylabel('width')"
   ]
  },
  {
   "cell_type": "code",
   "execution_count": null,
   "metadata": {},
   "outputs": [],
   "source": []
  },
  {
   "cell_type": "code",
   "execution_count": null,
   "metadata": {},
   "outputs": [],
   "source": []
  }
 ],
 "metadata": {
  "kernelspec": {
   "display_name": "Python 3",
   "language": "python",
   "name": "python3"
  },
  "language_info": {
   "codemirror_mode": {
    "name": "ipython",
    "version": 3
   },
   "file_extension": ".py",
   "mimetype": "text/x-python",
   "name": "python",
   "nbconvert_exporter": "python",
   "pygments_lexer": "ipython3",
   "version": "3.7.6"
  }
 },
 "nbformat": 4,
 "nbformat_minor": 4
}
